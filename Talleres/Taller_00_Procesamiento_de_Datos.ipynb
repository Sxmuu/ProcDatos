{
  "nbformat": 4,
  "nbformat_minor": 0,
  "metadata": {
    "colab": {
      "provenance": []
    },
    "kernelspec": {
      "name": "python3",
      "display_name": "Python 3"
    },
    "language_info": {
      "name": "python"
    }
  },
  "cells": [
    {
      "cell_type": "markdown",
      "source": [
        "# **Taller 00 - Procesamiento de Datos**\n",
        "\n",
        "Pontificia Universidad Javeriana - 2410\n",
        "\n",
        "Samuel Peña García - ID - 20486979\n",
        "\n",
        "Programa: Ciencia de Datos\n",
        "\n",
        "Clase: 8184 - Lun, Jue 07-09\n",
        "\n"
      ],
      "metadata": {
        "id": "vj8Pjs_rJJqF"
      }
    },
    {
      "cell_type": "markdown",
      "source": [
        "Este cuaderno contiene la solución de los cuestionarios de las actividades **1, 2, 3, 4, 5, 6, 7, 8, 9 y el bono adicional**"
      ],
      "metadata": {
        "id": "8PI9uHLlLyGm"
      }
    },
    {
      "cell_type": "markdown",
      "source": [
        "# **Actividad 1 - Cadenas**"
      ],
      "metadata": {
        "id": "fDGPTV1nMKiq"
      }
    },
    {
      "cell_type": "markdown",
      "source": [
        "1- ¿Cual es el valor de la variable <code>A</code> después de ejecutar el siguiente código?\n",
        "\n",
        "\n",
        "\n",
        "```\n",
        "A = \"1\"\n",
        "```\n",
        "\n"
      ],
      "metadata": {
        "id": "I0gDJ4T4Mftn"
      }
    },
    {
      "cell_type": "markdown",
      "source": [
        "**R/** El valor de A será la cadena de texto 1."
      ],
      "metadata": {
        "id": "OK607Og4Mo_R"
      }
    },
    {
      "cell_type": "markdown",
      "source": [
        "2- ¿Cual es el valor de la variable <code>B</code> después de ejecutar el siguiente código?\n",
        "\n",
        "\n",
        "\n",
        "```\n",
        "B = \"2\"\n",
        "```\n",
        "\n"
      ],
      "metadata": {
        "id": "qgv05YQdMvh3"
      }
    },
    {
      "cell_type": "markdown",
      "source": [
        "**R/** El valor de B será la cadena de texto 2."
      ],
      "metadata": {
        "id": "TO_RAmJxNFDN"
      }
    },
    {
      "cell_type": "markdown",
      "source": [
        "3- ¿Cual es el valor de la variable <code>C</code> después de ejecutar el siguiente código?\n",
        "\n",
        "\n",
        "\n",
        "```\n",
        "C = A + B\n",
        "```\n",
        "\n"
      ],
      "metadata": {
        "id": "rzKHu60RNrPt"
      }
    },
    {
      "cell_type": "markdown",
      "source": [
        "**R/** El valor de C será la cadena de texto 12, teniendo en cuenta que al trabajar con cadenas, el operador + concatena estas."
      ],
      "metadata": {
        "id": "k8_0A07ZNvD3"
      }
    },
    {
      "cell_type": "markdown",
      "source": [
        "4- En la variable <code>D</code> haz uso del slicing para imprimir solo los primeros tres elementos:\n"
      ],
      "metadata": {
        "id": "5WuOD6LqOsLs"
      }
    },
    {
      "cell_type": "code",
      "source": [
        "D = \"ABCDEFG\""
      ],
      "metadata": {
        "id": "q6H7rNIHP8YP"
      },
      "execution_count": null,
      "outputs": []
    },
    {
      "cell_type": "markdown",
      "source": [
        "**R/** Con este código podemos hacer uso del slicing para imprimir sólo los primeros tres elementos:\n"
      ],
      "metadata": {
        "id": "kCBCfAf2O2Bb"
      }
    },
    {
      "cell_type": "code",
      "source": [
        "print(D[:3])"
      ],
      "metadata": {
        "colab": {
          "base_uri": "https://localhost:8080/"
        },
        "id": "bh6nc-ynPAYR",
        "outputId": "e2fe702b-2e52-4eeb-81a2-32991d6dcdb4"
      },
      "execution_count": null,
      "outputs": [
        {
          "output_type": "stream",
          "name": "stdout",
          "text": [
            "ABC\n"
          ]
        }
      ]
    },
    {
      "cell_type": "markdown",
      "source": [
        "5 - Usa un valor de stride de 2 para imprimir cada segundo elemento de la cadena <code>E</code>:"
      ],
      "metadata": {
        "id": "6GOoIxKyPe63"
      }
    },
    {
      "cell_type": "code",
      "source": [
        "E = 'clocrkr1e1c1t'"
      ],
      "metadata": {
        "id": "JRAUUM-0P--B"
      },
      "execution_count": null,
      "outputs": []
    },
    {
      "cell_type": "markdown",
      "source": [
        "**R/** Con esta línea imprimimos cada segundo elemento de la cadena E:"
      ],
      "metadata": {
        "id": "wLgVIHelPrBa"
      }
    },
    {
      "cell_type": "code",
      "source": [
        "print(E[::2])"
      ],
      "metadata": {
        "colab": {
          "base_uri": "https://localhost:8080/"
        },
        "id": "XRYMbD7-PxbQ",
        "outputId": "fc8655f3-224c-4e8e-c1d3-9029de0b739b"
      },
      "execution_count": null,
      "outputs": [
        {
          "output_type": "stream",
          "name": "stdout",
          "text": [
            "correct\n"
          ]
        }
      ]
    },
    {
      "cell_type": "markdown",
      "source": [
        "6- Imprime una barra invertida:"
      ],
      "metadata": {
        "id": "aS08Eoz8QSUk"
      }
    },
    {
      "cell_type": "markdown",
      "source": [
        "**R/:**"
      ],
      "metadata": {
        "id": "hPYBOLFAQYFH"
      }
    },
    {
      "cell_type": "code",
      "source": [
        "print(\"\\\\\")"
      ],
      "metadata": {
        "colab": {
          "base_uri": "https://localhost:8080/"
        },
        "id": "85zg2pJBQbnw",
        "outputId": "63ffa2fb-e639-4e9c-df60-d53930b27e95"
      },
      "execution_count": null,
      "outputs": [
        {
          "output_type": "stream",
          "name": "stdout",
          "text": [
            "\\\n"
          ]
        }
      ]
    },
    {
      "cell_type": "markdown",
      "source": [
        "7 - Convierte el mayúsculas el contenido de la variable <code>F</code>:"
      ],
      "metadata": {
        "id": "eXVJaCC9QieV"
      }
    },
    {
      "cell_type": "code",
      "source": [
        "F = \"You are wrong\""
      ],
      "metadata": {
        "id": "17WQ49G_QkUJ"
      },
      "execution_count": null,
      "outputs": []
    },
    {
      "cell_type": "markdown",
      "source": [
        "**R/** Usando la función upper convertiremos a mayúsculas el contenido de F."
      ],
      "metadata": {
        "id": "CUTSFht6Qml_"
      }
    },
    {
      "cell_type": "code",
      "source": [
        "F.upper()"
      ],
      "metadata": {
        "colab": {
          "base_uri": "https://localhost:8080/",
          "height": 35
        },
        "id": "n3CASlybQsMU",
        "outputId": "2a78d7e5-2a08-4fb5-9650-baa8aef954e3"
      },
      "execution_count": null,
      "outputs": [
        {
          "output_type": "execute_result",
          "data": {
            "text/plain": [
              "'YOU ARE WRONG'"
            ],
            "application/vnd.google.colaboratory.intrinsic+json": {
              "type": "string"
            }
          },
          "metadata": {},
          "execution_count": 9
        }
      ]
    },
    {
      "cell_type": "markdown",
      "source": [
        "8 - En la variable <code>G</code>, encuentra el primer índice de la sub-cadena <code>snow</code>:"
      ],
      "metadata": {
        "id": "U6zMXp1kQ73J"
      }
    },
    {
      "cell_type": "code",
      "source": [
        "G = \"Mary had a little lamb Little lamb, little lamb Mary had a little lamb \\\n",
        "Its fleece was white as snow And everywhere that Mary went Mary went, Mary went \\\n",
        "Everywhere that Mary went The lamb was sure to go\""
      ],
      "metadata": {
        "id": "0vxOuGWqQ9po"
      },
      "execution_count": null,
      "outputs": []
    },
    {
      "cell_type": "markdown",
      "source": [
        "**R/** A través de la función find encontraremos el primer índice de la subcadena snow."
      ],
      "metadata": {
        "id": "bo0Sy6hARAT5"
      }
    },
    {
      "cell_type": "code",
      "source": [
        "G.find(\"snow\")"
      ],
      "metadata": {
        "colab": {
          "base_uri": "https://localhost:8080/"
        },
        "id": "qhR3Y2PaRKNj",
        "outputId": "dc43e4a9-26a8-410c-a411-00fa1bd4278d"
      },
      "execution_count": null,
      "outputs": [
        {
          "output_type": "execute_result",
          "data": {
            "text/plain": [
              "95"
            ]
          },
          "metadata": {},
          "execution_count": 17
        }
      ]
    },
    {
      "cell_type": "markdown",
      "source": [
        "9- En la variable <code>G</code>, reemplaza la sub-cadena <code>Mary</code> con <code>Bob</code>:"
      ],
      "metadata": {
        "id": "41jLSxcrRV3L"
      }
    },
    {
      "cell_type": "markdown",
      "source": [
        "**R/** Con la función replace podemos hacer reemplazos de subcadenas."
      ],
      "metadata": {
        "id": "U_JXmz5FRZFr"
      }
    },
    {
      "cell_type": "code",
      "source": [
        "G.replace(\"Mary\", \"Bob\")"
      ],
      "metadata": {
        "colab": {
          "base_uri": "https://localhost:8080/",
          "height": 35
        },
        "id": "Dv-eW9nFRf-g",
        "outputId": "01f38e3a-17ae-42df-bb62-caba1f561212"
      },
      "execution_count": null,
      "outputs": [
        {
          "output_type": "execute_result",
          "data": {
            "text/plain": [
              "'Bob had a little lamb Little lamb, little lamb Bob had a little lamb Its fleece was white as snow And everywhere that Bob went Bob went, Bob went Everywhere that Bob went The lamb was sure to go'"
            ],
            "application/vnd.google.colaboratory.intrinsic+json": {
              "type": "string"
            }
          },
          "metadata": {},
          "execution_count": 18
        }
      ]
    },
    {
      "cell_type": "markdown",
      "source": [
        "#**Actividad 2 - Tuplas**"
      ],
      "metadata": {
        "id": "OjibYotKx7Gy"
      }
    },
    {
      "cell_type": "markdown",
      "source": [
        "1- Considerando la siguiente tupla:"
      ],
      "metadata": {
        "id": "D-mGZxpLzaSZ"
      }
    },
    {
      "cell_type": "code",
      "source": [
        "genres_tuple = (\"pop\", \"rock\", \"soul\", \"hard rock\", \"soft rock\", \\\n",
        "                \"R&B\", \"progressive rock\", \"disco\")\n",
        "genres_tuple"
      ],
      "metadata": {
        "colab": {
          "base_uri": "https://localhost:8080/"
        },
        "id": "Lj7WR43Yzdzb",
        "outputId": "8c64b220-b0c6-44da-91ad-c2bbdce0ca0c"
      },
      "execution_count": null,
      "outputs": [
        {
          "output_type": "execute_result",
          "data": {
            "text/plain": [
              "('pop',\n",
              " 'rock',\n",
              " 'soul',\n",
              " 'hard rock',\n",
              " 'soft rock',\n",
              " 'R&B',\n",
              " 'progressive rock',\n",
              " 'disco')"
            ]
          },
          "metadata": {},
          "execution_count": 1
        }
      ]
    },
    {
      "cell_type": "markdown",
      "source": [
        "Encuentra la longitud de la tupla <code>genres_tuple</code>"
      ],
      "metadata": {
        "id": "I15fGs7hze31"
      }
    },
    {
      "cell_type": "markdown",
      "source": [
        "**R/** La función len nos ayudará a encontrar la longitud de <code>genres_tuple</code>"
      ],
      "metadata": {
        "id": "9YX5UQKFzivC"
      }
    },
    {
      "cell_type": "code",
      "source": [
        "len(genres_tuple)"
      ],
      "metadata": {
        "colab": {
          "base_uri": "https://localhost:8080/"
        },
        "id": "ejzLQEtizvoS",
        "outputId": "c31f7d76-e9a0-4e98-ddd4-0c131a42f6c4"
      },
      "execution_count": null,
      "outputs": [
        {
          "output_type": "execute_result",
          "data": {
            "text/plain": [
              "8"
            ]
          },
          "metadata": {},
          "execution_count": 2
        }
      ]
    },
    {
      "cell_type": "markdown",
      "source": [
        "2- Accede al tercer elemento de <code>genres_tuple</code>"
      ],
      "metadata": {
        "id": "uodg-Ejz1u-7"
      }
    },
    {
      "cell_type": "markdown",
      "source": [
        "**R/** Para acceder al elemento requerido de la tupla, podemos darle el mismo manejo que le daríamos a un arreglo tradicional, de la siguiente forma:"
      ],
      "metadata": {
        "id": "RA0OSdh_2Bjj"
      }
    },
    {
      "cell_type": "code",
      "source": [
        "genres_tuple[3]"
      ],
      "metadata": {
        "colab": {
          "base_uri": "https://localhost:8080/",
          "height": 35
        },
        "id": "3ugQ6Pw62Nax",
        "outputId": "07a7971c-6ad8-4c9c-9a7e-002daa223275"
      },
      "execution_count": null,
      "outputs": [
        {
          "output_type": "execute_result",
          "data": {
            "text/plain": [
              "'hard rock'"
            ],
            "application/vnd.google.colaboratory.intrinsic+json": {
              "type": "string"
            }
          },
          "metadata": {},
          "execution_count": 3
        }
      ]
    },
    {
      "cell_type": "markdown",
      "source": [
        "3- Usa el slicing para encontrar los índices 3, 4 y 5 de la tupla"
      ],
      "metadata": {
        "id": "4ESjtcH42_aL"
      }
    },
    {
      "cell_type": "markdown",
      "source": [
        "**R/** Para este problema podemos aplicar la misma solución de la actividad de cadenas:"
      ],
      "metadata": {
        "id": "Ejpb1Ti63KkG"
      }
    },
    {
      "cell_type": "code",
      "source": [
        "genres_tuple[3:6]"
      ],
      "metadata": {
        "colab": {
          "base_uri": "https://localhost:8080/"
        },
        "id": "FhpPmWZQ3UaT",
        "outputId": "044296c5-d65f-42c3-b6a1-3f0817a87dcf"
      },
      "execution_count": null,
      "outputs": [
        {
          "output_type": "execute_result",
          "data": {
            "text/plain": [
              "('hard rock', 'soft rock', 'R&B')"
            ]
          },
          "metadata": {},
          "execution_count": 4
        }
      ]
    },
    {
      "cell_type": "markdown",
      "source": [
        "4- Encuentra los primeros dos elementos de la tupla <code>genres_tuple</code>:"
      ],
      "metadata": {
        "id": "BGwZ86BK4hYB"
      }
    },
    {
      "cell_type": "markdown",
      "source": [
        "**R/** Tal cual como en el problema 3, podemos replicar las soluciones vistas en la actividad de cadenas:\n"
      ],
      "metadata": {
        "id": "iH0E2xRN4hQi"
      }
    },
    {
      "cell_type": "code",
      "source": [
        "genres_tuple[:2]"
      ],
      "metadata": {
        "colab": {
          "base_uri": "https://localhost:8080/"
        },
        "id": "w4R5_lIa4vkm",
        "outputId": "9086bbef-8e40-434a-8342-fdcf92ff2411"
      },
      "execution_count": null,
      "outputs": [
        {
          "output_type": "execute_result",
          "data": {
            "text/plain": [
              "('pop', 'rock')"
            ]
          },
          "metadata": {},
          "execution_count": 5
        }
      ]
    },
    {
      "cell_type": "markdown",
      "source": [
        "5- Encuentra el primer índice de <code>\"disco\"</code>:"
      ],
      "metadata": {
        "id": "oo39lc6-5AkA"
      }
    },
    {
      "cell_type": "markdown",
      "source": [
        "**R/** A través de la función index encontraremos el primer índice de disco:"
      ],
      "metadata": {
        "id": "np032ZoJ5CSx"
      }
    },
    {
      "cell_type": "code",
      "source": [
        "genres_tuple.index(\"disco\")"
      ],
      "metadata": {
        "colab": {
          "base_uri": "https://localhost:8080/"
        },
        "id": "zPYRZird5Go4",
        "outputId": "494a5a94-0999-4df3-e79b-e617786a8b17"
      },
      "execution_count": null,
      "outputs": [
        {
          "output_type": "execute_result",
          "data": {
            "text/plain": [
              "7"
            ]
          },
          "metadata": {},
          "execution_count": 7
        }
      ]
    },
    {
      "cell_type": "markdown",
      "source": [
        "6- Genera una lista ordenada desde la tupla <code>C_tuple=(-5, 1, -3)</code>:"
      ],
      "metadata": {
        "id": "UsFuwlo16T9W"
      }
    },
    {
      "cell_type": "code",
      "source": [
        "C_tuple = (-5, 1, -3)\n",
        "C_list = sorted(C_tuple)\n",
        "C_list"
      ],
      "metadata": {
        "colab": {
          "base_uri": "https://localhost:8080/"
        },
        "id": "VDn_jQ7w6Xap",
        "outputId": "c32a33c2-f1a3-421b-dd49-c0470523cfbd"
      },
      "execution_count": null,
      "outputs": [
        {
          "output_type": "execute_result",
          "data": {
            "text/plain": [
              "[-5, -3, 1]"
            ]
          },
          "metadata": {},
          "execution_count": 10
        }
      ]
    },
    {
      "cell_type": "markdown",
      "source": [
        "# **Actividad 3 - Listas**"
      ],
      "metadata": {
        "id": "mKj3DD89ZX-5"
      }
    },
    {
      "cell_type": "markdown",
      "source": [
        "1- Crea una lista <code>a_lit</code> con los siguientes elementos <code>1</code>, <code>hello</code>, <code>[1,2,3]</code> y <code>True</code>."
      ],
      "metadata": {
        "id": "_utFpsruZfq4"
      }
    },
    {
      "cell_type": "markdown",
      "source": [
        "**R/** Podemos crear una lista simplemente con el nombre, el signo de igual y los elementos a declarar separados por coma, todo esto dentro de \"[]\""
      ],
      "metadata": {
        "id": "lvHBsi0kaApM"
      }
    },
    {
      "cell_type": "code",
      "source": [
        "a_lit = [1, 'hello', [1,2,3], True]\n",
        "a_lit"
      ],
      "metadata": {
        "colab": {
          "base_uri": "https://localhost:8080/"
        },
        "id": "-IGq38iNZpMx",
        "outputId": "86926dd9-c1ca-445d-cbb0-d94be64cea6c"
      },
      "execution_count": null,
      "outputs": [
        {
          "output_type": "execute_result",
          "data": {
            "text/plain": [
              "[1, 'hello', [1, 2, 3], True]"
            ]
          },
          "metadata": {},
          "execution_count": 2
        }
      ]
    },
    {
      "cell_type": "markdown",
      "source": [
        "2- Encuentra el valor almacenado en el índice 1 de <code>a_list</code>."
      ],
      "metadata": {
        "id": "muVuKgoPaysd"
      }
    },
    {
      "cell_type": "markdown",
      "source": [
        "**R/** Podemos encontrar este valor de igual forma que encontraríamos el valor almacenado en un índice de un arreglo en C++, de la siguiente forma:"
      ],
      "metadata": {
        "id": "7IqmDwb0bGVE"
      }
    },
    {
      "cell_type": "code",
      "source": [
        "a_lit[1]"
      ],
      "metadata": {
        "colab": {
          "base_uri": "https://localhost:8080/"
        },
        "id": "1yKNHcexbAva",
        "outputId": "e291c8b5-5367-4e7d-e847-8990b79b3506"
      },
      "execution_count": null,
      "outputs": [
        {
          "output_type": "execute_result",
          "data": {
            "text/plain": [
              "'hello'"
            ],
            "application/vnd.google.colaboratory.intrinsic+json": {
              "type": "string"
            }
          },
          "metadata": {},
          "execution_count": 3
        }
      ]
    },
    {
      "cell_type": "markdown",
      "source": [
        "3- Obtén el elemento almacenado en el índice 1, 2 y 3 de <code>a_list</code>."
      ],
      "metadata": {
        "id": "gnJPk8nDbTpQ"
      }
    },
    {
      "cell_type": "markdown",
      "source": [
        "**R/** Podemos repetir el procedimiento que hemos usado en problemas anteriores, simplemente usando \"[1:4]\" para indicar la secuencia de los índices que necesitamos"
      ],
      "metadata": {
        "id": "ZytgMBKkb3Rf"
      }
    },
    {
      "cell_type": "code",
      "source": [
        "a_lit[1:4]"
      ],
      "metadata": {
        "colab": {
          "base_uri": "https://localhost:8080/"
        },
        "id": "KqkiTcCacK6d",
        "outputId": "8e32f31d-b104-453c-b15b-641d6870cab2"
      },
      "execution_count": null,
      "outputs": [
        {
          "output_type": "execute_result",
          "data": {
            "text/plain": [
              "['hello', [1, 2, 3], True]"
            ]
          },
          "metadata": {},
          "execution_count": 6
        }
      ]
    },
    {
      "cell_type": "markdown",
      "source": [
        "4- Concatena las siguientes listas <code>A = [1, 'a']</code> y <code>B = [2, 1, 'd']</code>:"
      ],
      "metadata": {
        "id": "lVWrZZV9cfbp"
      }
    },
    {
      "cell_type": "code",
      "source": [
        "A = [1, 'a']\n",
        "B = [2, 1, 'd']"
      ],
      "metadata": {
        "id": "DCYN3d6DchT3"
      },
      "execution_count": null,
      "outputs": []
    },
    {
      "cell_type": "markdown",
      "source": [
        "**R/** Para concatenar las listas podemos aplicar la misma solucion que al problema de cadenas, simplemente utilizando el operador +."
      ],
      "metadata": {
        "id": "DyANpAFmcr3z"
      }
    },
    {
      "cell_type": "code",
      "source": [
        "A+B"
      ],
      "metadata": {
        "colab": {
          "base_uri": "https://localhost:8080/"
        },
        "id": "6Mzlc9Udc0Z_",
        "outputId": "af6d1bfb-5bc0-497a-b045-959ef92a4ae8"
      },
      "execution_count": null,
      "outputs": [
        {
          "output_type": "execute_result",
          "data": {
            "text/plain": [
              "[1, 'a', 2, 1, 'd']"
            ]
          },
          "metadata": {},
          "execution_count": 8
        }
      ]
    },
    {
      "cell_type": "markdown",
      "source": [
        "# **Actividad 4 - Conjuntos**"
      ],
      "metadata": {
        "id": "KGJ28zQvdQ0f"
      }
    },
    {
      "cell_type": "markdown",
      "source": [
        "1- *Transformar* la lista <code>['rap','house','electronic music', 'rap']</code> en un conjunto:"
      ],
      "metadata": {
        "id": "hxcJ44FMdf8n"
      }
    },
    {
      "cell_type": "markdown",
      "source": [
        "**R/** Con la función set podemos transformar una lista en un conjunto."
      ],
      "metadata": {
        "id": "EXITYUVMdk5K"
      }
    },
    {
      "cell_type": "code",
      "source": [
        "set(['rap','house','electronic music','rap'])"
      ],
      "metadata": {
        "colab": {
          "base_uri": "https://localhost:8080/"
        },
        "id": "EG4mTptAd9nq",
        "outputId": "9b30b666-6c2c-4546-8e25-afb1b19c4d6b"
      },
      "execution_count": null,
      "outputs": [
        {
          "output_type": "execute_result",
          "data": {
            "text/plain": [
              "{'electronic music', 'house', 'rap'}"
            ]
          },
          "metadata": {},
          "execution_count": 9
        }
      ]
    },
    {
      "cell_type": "markdown",
      "source": [
        "2- Considera que la lista <code>A = [1, 2, 2, 1]</code> y el conjunto <code>B = set([1, 2, 2, 1])</code> suman <code>sum(A) = sum(B)</code>"
      ],
      "metadata": {
        "id": "LAdCZMdpeMQV"
      }
    },
    {
      "cell_type": "markdown",
      "source": [
        "**R/** La suma de la lista A será 6 y la del conjunto B será 3. Esto dado que los conjuntos no toman valores repetidos, por lo que descartará los últimos dos elementos de B, a diferencia de la lista A."
      ],
      "metadata": {
        "id": "JKBvYendfLWa"
      }
    },
    {
      "cell_type": "code",
      "source": [
        "A = [1, 2, 2, 1]\n",
        "B = set([1, 2, 2, 1])\n",
        "\n",
        "print(\"Suma A:\", sum(A))\n",
        "print(\"Suma B:\", sum(B))"
      ],
      "metadata": {
        "colab": {
          "base_uri": "https://localhost:8080/"
        },
        "id": "-H173dUGeUjs",
        "outputId": "a375bf7b-537c-4a79-c9d2-f7d42dddb961"
      },
      "execution_count": null,
      "outputs": [
        {
          "output_type": "stream",
          "name": "stdout",
          "text": [
            "Suma A: 6\n",
            "Suma B: 3\n"
          ]
        }
      ]
    },
    {
      "cell_type": "markdown",
      "source": [
        "3- Crea un nuevo conjunto <code>album_set3</code> que sea la unión de <code>album_set1</code> y <code>album_set2</code>:"
      ],
      "metadata": {
        "id": "h8EOeNltg_26"
      }
    },
    {
      "cell_type": "code",
      "source": [
        "album_set1 = set([\"Thriller\", 'AC/DC', 'Back in Black'])\n",
        "album_set2 = set([ \"AC/DC\", \"Back in Black\", \"The Dark Side of the Moon\"])"
      ],
      "metadata": {
        "id": "ETwxeLCdhFKK"
      },
      "execution_count": null,
      "outputs": []
    },
    {
      "cell_type": "markdown",
      "source": [
        "**R/** Con la función union podemos unir dos conjuntos, simplemente creamos el set 3 y le damos como valor la unión."
      ],
      "metadata": {
        "id": "gwwTHWtbhIri"
      }
    },
    {
      "cell_type": "code",
      "source": [
        "album_set3 = album_set1.union(album_set2)\n",
        "album_set3"
      ],
      "metadata": {
        "colab": {
          "base_uri": "https://localhost:8080/"
        },
        "id": "8H1RhFURhQOU",
        "outputId": "893372b5-4d00-4679-8596-50d6e12a7ae8"
      },
      "execution_count": null,
      "outputs": [
        {
          "output_type": "execute_result",
          "data": {
            "text/plain": [
              "{'AC/DC', 'Back in Black', 'The Dark Side of the Moon', 'Thriller'}"
            ]
          },
          "metadata": {},
          "execution_count": 17
        }
      ]
    },
    {
      "cell_type": "markdown",
      "source": [
        "4- Averigua si <code>album_set1</code> es un subconjunto de <code>album_set3</code>:"
      ],
      "metadata": {
        "id": "-6BTVdHChf3z"
      }
    },
    {
      "cell_type": "markdown",
      "source": [
        "**R/** Con la función issubset podemos definir si el set 1 es un subconjunto del set 3, lo cual es cierto."
      ],
      "metadata": {
        "id": "Q-6pqufOhl7q"
      }
    },
    {
      "cell_type": "code",
      "source": [
        "album_set1.issubset(album_set3)"
      ],
      "metadata": {
        "colab": {
          "base_uri": "https://localhost:8080/"
        },
        "id": "jhadJ0hEhjYv",
        "outputId": "d3c7ec39-d2f8-44f3-8f31-dbb3b8a9dd65"
      },
      "execution_count": null,
      "outputs": [
        {
          "output_type": "execute_result",
          "data": {
            "text/plain": [
              "True"
            ]
          },
          "metadata": {},
          "execution_count": 18
        }
      ]
    },
    {
      "cell_type": "markdown",
      "source": [
        "# **Actividad 5 - Diccionarios**"
      ],
      "metadata": {
        "id": "e4KvgZq9hywc"
      }
    },
    {
      "cell_type": "code",
      "source": [
        "soundtrack_dic = {\"The Bodyguard\":\"1992\", \"Saturday Night Fever\":\"1977\"}\n",
        "soundtrack_dic"
      ],
      "metadata": {
        "colab": {
          "base_uri": "https://localhost:8080/"
        },
        "id": "D-a1VdJ9i29A",
        "outputId": "a06001e0-a3fc-45db-c083-e12cd1adc067"
      },
      "execution_count": null,
      "outputs": [
        {
          "output_type": "execute_result",
          "data": {
            "text/plain": [
              "{'The Bodyguard': '1992', 'Saturday Night Fever': '1977'}"
            ]
          },
          "metadata": {},
          "execution_count": 19
        }
      ]
    },
    {
      "cell_type": "markdown",
      "source": [
        "1- En el diccionario <code>soundtrack_dict</code>. ¿Cuáles son las llaves?"
      ],
      "metadata": {
        "id": "XQkJkwobi40G"
      }
    },
    {
      "cell_type": "markdown",
      "source": [
        "**R/** Las llaves son \"The Bodyguard\" y \"Saturday Night Fever\", teniendo en cuenta que esto se declaró antes del : de cada tupla clave-valor."
      ],
      "metadata": {
        "id": "rmTl5jBGjAST"
      }
    },
    {
      "cell_type": "code",
      "source": [
        "soundtrack_dic.keys()"
      ],
      "metadata": {
        "colab": {
          "base_uri": "https://localhost:8080/"
        },
        "id": "ekV9kR7ui8Gw",
        "outputId": "e47b1701-215f-4364-dd54-612ebc5e9192"
      },
      "execution_count": null,
      "outputs": [
        {
          "output_type": "execute_result",
          "data": {
            "text/plain": [
              "dict_keys(['The Bodyguard', 'Saturday Night Fever'])"
            ]
          },
          "metadata": {},
          "execution_count": 20
        }
      ]
    },
    {
      "cell_type": "markdown",
      "source": [
        "2- En el diccionario <code>soundtrack_dict</code>. ¿Cuáles son los valores?"
      ],
      "metadata": {
        "id": "grN4nVtpjNko"
      }
    },
    {
      "cell_type": "markdown",
      "source": [
        "**R/** Los valores son 1992 y 1977, teniendo en cuenta que esto se declaró después del : de cada tupla clave-valor."
      ],
      "metadata": {
        "id": "2xJSegGYjTWd"
      }
    },
    {
      "cell_type": "code",
      "source": [
        "soundtrack_dic.values()"
      ],
      "metadata": {
        "colab": {
          "base_uri": "https://localhost:8080/"
        },
        "id": "tTZm9ghWjzLS",
        "outputId": "df91bbe3-c4e8-4eb5-9909-94806aef421f"
      },
      "execution_count": null,
      "outputs": [
        {
          "output_type": "execute_result",
          "data": {
            "text/plain": [
              "dict_values(['1992', '1977'])"
            ]
          },
          "metadata": {},
          "execution_count": 21
        }
      ]
    },
    {
      "cell_type": "markdown",
      "source": [
        "Los discos <b>Back in Black</b>, <b>The Bodyguard</b> y <b>Thriller</b> poseen el siguiente record de ventas en millones, 50, 50 y 65 respectivamente:"
      ],
      "metadata": {
        "id": "tp68cPPAkDqY"
      }
    },
    {
      "cell_type": "markdown",
      "source": [
        "3- Crea un diccionario <code>album_sales_dict</code> donde las llaves sean el nombre del disco y los valores la cantidad de ventas en millones."
      ],
      "metadata": {
        "id": "bFo-0d4IkIng"
      }
    },
    {
      "cell_type": "code",
      "source": [
        "album_sales_dict = {\"Back in Black\":50, \"The Bodyguard\":50, \"Thriller\":65}\n",
        "album_sales_dict"
      ],
      "metadata": {
        "colab": {
          "base_uri": "https://localhost:8080/"
        },
        "id": "yC-3TP0akq0b",
        "outputId": "59b4a2d5-2b06-4a70-fc7e-cf821d314d7d"
      },
      "execution_count": null,
      "outputs": [
        {
          "output_type": "execute_result",
          "data": {
            "text/plain": [
              "{'Back in Black': 50, 'The Bodyguard': 50, 'Thriller': 65}"
            ]
          },
          "metadata": {},
          "execution_count": 23
        }
      ]
    },
    {
      "cell_type": "markdown",
      "source": [
        "4- Encuentra los nombres de los discos dentro del diccionario mediante el método <code>keys</code>:"
      ],
      "metadata": {
        "id": "9QOiQCeTkto4"
      }
    },
    {
      "cell_type": "markdown",
      "source": [
        "**R/** Simplemente usando la función keys encontraremos las claves del diccionario, que corresponden con los nombres de los discos."
      ],
      "metadata": {
        "id": "riOGzkv1kxyj"
      }
    },
    {
      "cell_type": "code",
      "source": [
        "album_sales_dict.keys()"
      ],
      "metadata": {
        "colab": {
          "base_uri": "https://localhost:8080/"
        },
        "id": "7lOemfyjk6Rr",
        "outputId": "c58a5f0b-55f5-429f-9784-8c74066b16ad"
      },
      "execution_count": null,
      "outputs": [
        {
          "output_type": "execute_result",
          "data": {
            "text/plain": [
              "dict_keys(['Back in Black', 'The Bodyguard', 'Thriller'])"
            ]
          },
          "metadata": {},
          "execution_count": 24
        }
      ]
    },
    {
      "cell_type": "markdown",
      "source": [
        "5- Encuentra los records de ventas dentro del diccionario mediante el método <code>values</code>:"
      ],
      "metadata": {
        "id": "pOPjuM-ak_3J"
      }
    },
    {
      "cell_type": "markdown",
      "source": [
        "**R/** Simplemente usando la función values encontraremos los valores del diccionario, que corresponden con los records de ventas de los discos."
      ],
      "metadata": {
        "id": "WoXyp5uJlCE8"
      }
    },
    {
      "cell_type": "code",
      "source": [
        "album_sales_dict.values()"
      ],
      "metadata": {
        "colab": {
          "base_uri": "https://localhost:8080/"
        },
        "id": "UQvypvUIlIyR",
        "outputId": "25abdf1c-f696-4439-bd44-abf6f5b86fd9"
      },
      "execution_count": null,
      "outputs": [
        {
          "output_type": "execute_result",
          "data": {
            "text/plain": [
              "dict_values([50, 50, 65])"
            ]
          },
          "metadata": {},
          "execution_count": 25
        }
      ]
    },
    {
      "cell_type": "markdown",
      "source": [
        "# **Actividad 6 - Condiciones**"
      ],
      "metadata": {
        "id": "V0l_v5z2l4Kj"
      }
    },
    {
      "cell_type": "markdown",
      "source": [
        "1- Escribe una declaración if que determine si un disco musical tiene una calificación mayor a 8. Compruébalo utilizando el calificación del disco <b>“Back in Black”</b> el cual tiene un valor de 8.5. Si la condición es verdadera, imprime “\"This album is Amazing!\"”"
      ],
      "metadata": {
        "id": "U2S9EwggFc6V"
      }
    },
    {
      "cell_type": "code",
      "source": [
        "rating = 8.5\n",
        "\n",
        "if rating > 8:\n",
        "  print(\"This album is amazing\")"
      ],
      "metadata": {
        "colab": {
          "base_uri": "https://localhost:8080/"
        },
        "id": "W8UFcEktFgKf",
        "outputId": "40038120-0331-446a-eb26-e0513edcadd0"
      },
      "execution_count": null,
      "outputs": [
        {
          "output_type": "stream",
          "name": "stdout",
          "text": [
            "This album is amazing\n"
          ]
        }
      ]
    },
    {
      "cell_type": "markdown",
      "source": [
        "2- Escribe una declaración if-else que determine lo siguiente. Si la calificación es mayor que 8 imprime “this album is amazing”. Si es menor o igual a 8 que imprima “this album is ok”."
      ],
      "metadata": {
        "id": "AQn7shWeFyb3"
      }
    },
    {
      "cell_type": "code",
      "source": [
        "rating = [8.5, 8]\n",
        "\n",
        "for i in rating:\n",
        "  if i > 8:\n",
        "    print(\"This album is amazing\")\n",
        "  elif i <= 8:\n",
        "    print(\"This album is ok\")"
      ],
      "metadata": {
        "colab": {
          "base_uri": "https://localhost:8080/"
        },
        "id": "a0g0L2PUFckM",
        "outputId": "973412a9-3a7d-4787-95f3-a885b974fb76"
      },
      "execution_count": null,
      "outputs": [
        {
          "output_type": "stream",
          "name": "stdout",
          "text": [
            "This album is amazing\n",
            "This album is ok\n"
          ]
        }
      ]
    },
    {
      "cell_type": "markdown",
      "source": [
        "3- Escribe una declaración if que determine si un disco fue lanzado antes de 1980 o en los años 1991 o 1993. Si la condición es verdadera imprime el año de lanzamiento."
      ],
      "metadata": {
        "id": "cmCrg5NVGu_1"
      }
    },
    {
      "cell_type": "code",
      "source": [
        "album_year = 1991\n",
        "\n",
        "if album_year < 1980 or album_year == 1991 or album_year == 1993:\n",
        "  print(album_year)"
      ],
      "metadata": {
        "colab": {
          "base_uri": "https://localhost:8080/"
        },
        "id": "QpKL5o9RHmT5",
        "outputId": "2102da14-5b15-4db5-c108-4479c703e26f"
      },
      "execution_count": null,
      "outputs": [
        {
          "output_type": "stream",
          "name": "stdout",
          "text": [
            "1991\n"
          ]
        }
      ]
    },
    {
      "cell_type": "markdown",
      "source": [
        "#**Actividad 7 - Bucles**"
      ],
      "metadata": {
        "id": "4AqtdNR_IVfU"
      }
    },
    {
      "cell_type": "markdown",
      "source": [
        "1- Escribe un bucle <code>for</code> que imprima todos los elementos entre <b>-5</b> y <b>5</b> usando la función range."
      ],
      "metadata": {
        "id": "Dn3une40Ilo-"
      }
    },
    {
      "cell_type": "code",
      "source": [
        "for i in range (-5, 6):\n",
        "  print(i)"
      ],
      "metadata": {
        "colab": {
          "base_uri": "https://localhost:8080/"
        },
        "id": "IXfhj7iBIrAE",
        "outputId": "9f79cd02-3c14-49dc-e5f7-2d63bf020984"
      },
      "execution_count": null,
      "outputs": [
        {
          "output_type": "stream",
          "name": "stdout",
          "text": [
            "-5\n",
            "-4\n",
            "-3\n",
            "-2\n",
            "-1\n",
            "0\n",
            "1\n",
            "2\n",
            "3\n",
            "4\n",
            "5\n"
          ]
        }
      ]
    },
    {
      "cell_type": "markdown",
      "source": [
        "2- Imprime los elementos de la siguiente lista:\n",
        "<code>Genres=[ 'rock', 'R&B', 'Soundtrack', 'R&B', 'soul', 'pop']</code>\n",
        "Y asegúrate de seguir las convenciones del lenguaje Python"
      ],
      "metadata": {
        "id": "ScBBDBm0I2q8"
      }
    },
    {
      "cell_type": "code",
      "source": [
        "Genres=[ 'rock', 'R&B', 'Soundtrack', 'R&B', 'soul', 'pop']\n",
        "\n",
        "for i in Genres:\n",
        "  print(i)"
      ],
      "metadata": {
        "colab": {
          "base_uri": "https://localhost:8080/"
        },
        "id": "QyDXy_XyI6BC",
        "outputId": "818c4114-cbaa-417f-8c41-21dce6c117ab"
      },
      "execution_count": null,
      "outputs": [
        {
          "output_type": "stream",
          "name": "stdout",
          "text": [
            "rock\n",
            "R&B\n",
            "Soundtrack\n",
            "R&B\n",
            "soul\n",
            "pop\n"
          ]
        }
      ]
    },
    {
      "cell_type": "markdown",
      "source": [
        "3- Escribe un bucle for que imprima la siguiente lista: <code>squares=['red', 'yellow', 'green', 'purple', 'blue']</code>"
      ],
      "metadata": {
        "id": "P5wx4vA3JwX_"
      }
    },
    {
      "cell_type": "code",
      "source": [
        "squares=['red', 'yellow', 'green', 'purple', 'blue']\n",
        "\n",
        "for i in squares:\n",
        "  print(i)"
      ],
      "metadata": {
        "colab": {
          "base_uri": "https://localhost:8080/"
        },
        "id": "3A9JwVf9J2Yi",
        "outputId": "ed830065-ef16-4a1e-d206-991a46d27d38"
      },
      "execution_count": null,
      "outputs": [
        {
          "output_type": "stream",
          "name": "stdout",
          "text": [
            "red\n",
            "yellow\n",
            "green\n",
            "purple\n",
            "blue\n"
          ]
        }
      ]
    },
    {
      "cell_type": "markdown",
      "source": [
        "4- Escribe un bucle while que muestre los valores de la calificación de las canciones de un disco almacenados en la lista <code>PlayListRatings</code>. Si la calificación es menor a 6, sal del bucle. La lista <code>PlayListRatings</code> esta compuesta por: <code>PlayListRatings = [10, 9.5, 10, 8, 7.5, 5, 10, 10]</code>"
      ],
      "metadata": {
        "id": "h1fVnBW0J_y8"
      }
    },
    {
      "cell_type": "code",
      "source": [
        "PlayListRatings = [10, 9.5, 10, 8, 7.5, 5, 10, 10]\n",
        "\n",
        "i = 0\n",
        "while i < len(PlayListRatings):\n",
        "    rating = PlayListRatings[i]\n",
        "    if rating < 6:\n",
        "        break\n",
        "    print(rating)\n",
        "    i += 1"
      ],
      "metadata": {
        "colab": {
          "base_uri": "https://localhost:8080/"
        },
        "id": "_LQs0SSFKGSv",
        "outputId": "c009511a-6cd7-4ccb-efcc-49a2fd706202"
      },
      "execution_count": null,
      "outputs": [
        {
          "output_type": "stream",
          "name": "stdout",
          "text": [
            "10\n",
            "9.5\n",
            "10\n",
            "8\n",
            "7.5\n"
          ]
        }
      ]
    },
    {
      "cell_type": "markdown",
      "source": [
        "5- Escribe un bucle while que copie las cadenas <code>'orange'</code> de la lista <code>squares</code> a la lista <code>new_squares</code>. Detente y sal del ciclo si el valor en la lista no es <code>'orange'</code>:"
      ],
      "metadata": {
        "id": "vF4BeTbcLQkG"
      }
    },
    {
      "cell_type": "code",
      "source": [
        "squares = ['orange', 'orange', 'purple', 'blue ', 'orange']\n",
        "new_squares = []\n",
        "\n",
        "i = 0\n",
        "while i < len(squares):\n",
        "    if squares[i] != 'orange':\n",
        "        break\n",
        "    new_squares.append(squares[i])\n",
        "    i += 1\n",
        "\n",
        "new_squares"
      ],
      "metadata": {
        "colab": {
          "base_uri": "https://localhost:8080/"
        },
        "id": "VvLbBbufLWbh",
        "outputId": "a023e3af-fc1e-4a54-8ad2-c099dc2ee627"
      },
      "execution_count": null,
      "outputs": [
        {
          "output_type": "execute_result",
          "data": {
            "text/plain": [
              "['orange', 'orange']"
            ]
          },
          "metadata": {},
          "execution_count": 26
        }
      ]
    },
    {
      "cell_type": "markdown",
      "source": [
        "# **Actividad 8 - Funciones**"
      ],
      "metadata": {
        "id": "KxuJ1Hw3MGKV"
      }
    },
    {
      "cell_type": "markdown",
      "source": [
        "1- Cree una función que divida la primera entrada por la segunda entrada:"
      ],
      "metadata": {
        "id": "1VuN4YfIMhs3"
      }
    },
    {
      "cell_type": "code",
      "source": [
        "def divd(i, j):\n",
        "  return(i/j)"
      ],
      "metadata": {
        "id": "WHtN89pXM6Qu"
      },
      "execution_count": null,
      "outputs": []
    },
    {
      "cell_type": "markdown",
      "source": [
        "2- ¿Se puede usar la función <code> con </code> que definimos antes para agregar números enteros o cadenas?"
      ],
      "metadata": {
        "id": "fOmT2IboORf1"
      }
    },
    {
      "cell_type": "code",
      "source": [
        "def con(a, b):\n",
        "    return(a + b)"
      ],
      "metadata": {
        "id": "c7ioIzlTOXOc"
      },
      "execution_count": null,
      "outputs": []
    },
    {
      "cell_type": "markdown",
      "source": [
        "**R/** Sí. En el caso de los números la función con los va a sumar, en el caso de cadenas las va a concatenar."
      ],
      "metadata": {
        "id": "SVlfG4nmOeTk"
      }
    },
    {
      "cell_type": "code",
      "source": [
        "print(con(1,2))\n",
        "print(con(\"Hola\",\" que tal\"))"
      ],
      "metadata": {
        "colab": {
          "base_uri": "https://localhost:8080/"
        },
        "id": "dyQhKGJCOmLZ",
        "outputId": "8603c281-3942-4511-a9ea-af359d5ea263"
      },
      "execution_count": null,
      "outputs": [
        {
          "output_type": "stream",
          "name": "stdout",
          "text": [
            "3\n",
            "Hola que tal\n"
          ]
        }
      ]
    },
    {
      "cell_type": "markdown",
      "source": [
        "3- ¿Se puede usar la función <code> con </code> que definimos antes para concentrar una lista o tupla?"
      ],
      "metadata": {
        "id": "OSjrdTr9O6c2"
      }
    },
    {
      "cell_type": "markdown",
      "source": [
        "**R/** Sí. El resultado sería el mismo que obtendríamos al usar directamente el operador +."
      ],
      "metadata": {
        "id": "II1kyByyPKYL"
      }
    },
    {
      "cell_type": "code",
      "source": [
        "con([\"a\", 1], [\"b\", 2])"
      ],
      "metadata": {
        "colab": {
          "base_uri": "https://localhost:8080/"
        },
        "id": "WyQ8Zh3NPUf9",
        "outputId": "db593ddd-99e8-445f-c2b2-f2f9b793a1d8"
      },
      "execution_count": null,
      "outputs": [
        {
          "output_type": "execute_result",
          "data": {
            "text/plain": [
              "['a', 1, 'b', 2]"
            ]
          },
          "metadata": {},
          "execution_count": 32
        }
      ]
    },
    {
      "cell_type": "markdown",
      "source": [
        "# **Actividad 9 - Clases**"
      ],
      "metadata": {
        "id": "zi3soXCeVADm"
      }
    },
    {
      "cell_type": "markdown",
      "source": [
        "La clase matplotlib.patches.Ellipse, permite dibujar elipses desde matplotlib. La clase se importa de la siguiente manera:\n",
        "\n",
        "from matplotlib.patchs import Ellipse\n",
        "\n",
        "Se puede dibujar entonces cualquier elipse, dando los argumentos:\n",
        "\n",
        "plt.gca().add_patch(Ellipse(xy, width, height, facecolor = color, edgecolor = edgecolor))\n",
        "\n",
        "Se requiere crear una clase Elipse, la cual el constructor sea con valores iniciales cualesquiera. Adicionalmente, la clase debe tener los siguientes métodos:\n",
        "\n",
        "1.- Cambiar el ancho\n",
        "\n",
        "2.- Cambiar el alto\n",
        "\n",
        "3.- Cambiar el color de relleno\n",
        "\n",
        "4.- Cambiar el color de borde\n",
        "\n",
        "5.- Dibujar"
      ],
      "metadata": {
        "id": "Ftf0EsHNVC93"
      }
    },
    {
      "cell_type": "code",
      "source": [
        "import matplotlib.pyplot as plt\n",
        "from matplotlib.patches import Ellipse\n",
        "\n",
        "class Elipse:\n",
        "    def __init__(self, xy=(0, 0), width=1, height=1, facecolor='white', edgecolor='black'):\n",
        "        self.xy = xy\n",
        "        self.width = width\n",
        "        self.height = height\n",
        "        self.facecolor = facecolor\n",
        "        self.edgecolor = edgecolor\n",
        "\n",
        "    def cambiarAncho(self, nuevo_ancho):\n",
        "        self.width = nuevo_ancho\n",
        "\n",
        "    def cambiarAlto(self, nuevo_alto):\n",
        "        self.height = nuevo_alto\n",
        "\n",
        "    def cambiarRelleno(self, nuevo_color):\n",
        "        self.facecolor = nuevo_color\n",
        "\n",
        "    def cambiarBorde(self, nuevo_color_borde):\n",
        "        self.edgecolor = nuevo_color_borde\n",
        "\n",
        "    def dibujar(self):\n",
        "        fig, ax = plt.subplots()\n",
        "        elipse = Ellipse(self.xy, self.width, self.height, facecolor=self.facecolor, edgecolor=self.edgecolor)\n",
        "        ax.add_patch(elipse)\n",
        "        plt.xlim(self.xy[0] - self.width, self.xy[0] + self.width)\n",
        "        plt.ylim(self.xy[1] - self.height, self.xy[1] + self.height)\n",
        "        plt.show()"
      ],
      "metadata": {
        "id": "Dnrs_fG-VDMZ"
      },
      "execution_count": null,
      "outputs": []
    },
    {
      "cell_type": "code",
      "source": [
        "elp = Elipse(xy=(2, 3), width=4, height=2, facecolor='green', edgecolor='red')\n",
        "\n",
        "elp.cambiarAncho(6)\n",
        "elp.cambiarAlto(3)\n",
        "elp.cambiarRelleno('blue')\n",
        "elp.cambiarBorde('gold')\n",
        "elp.dibujar()"
      ],
      "metadata": {
        "colab": {
          "base_uri": "https://localhost:8080/",
          "height": 435
        },
        "id": "xKdijy53VbLd",
        "outputId": "820b00c0-9b31-456d-df96-a8af9b6ca400"
      },
      "execution_count": null,
      "outputs": [
        {
          "output_type": "display_data",
          "data": {
            "text/plain": [
              "<Figure size 640x480 with 1 Axes>"
            ],
            "image/png": "[encoded data removed]"
          },
          "metadata": {}
        }
      ]
    },
    {
      "cell_type": "markdown",
      "source": [
        "# **Bono**"
      ],
      "metadata": {
        "id": "KufMpeuWLMua"
      }
    },
    {
      "cell_type": "markdown",
      "metadata": {
        "id": "dkfTfb7kKfO8"
      },
      "source": [
        "## **Calentamiento:**"
      ]
    },
    {
      "cell_type": "markdown",
      "metadata": {
        "id": "jKNiFouRKfO8"
      },
      "source": [
        "#### MENOR DE DOS PARES: Escriba una función que devuelva el menor de dos números dados *si* ambos números son pares, pero devuelva el mayor si uno o ambos números son impares\n",
        "    lesser_of_two_evens(2,4) --> 2\n",
        "    lesser_of_two_evens(2,5) --> 5"
      ]
    },
    {
      "cell_type": "code",
      "execution_count": 13,
      "metadata": {
        "id": "HF8_a_2IKfO8"
      },
      "outputs": [],
      "source": [
        "def lesser_of_two_evens(a,b):\n",
        "    if a % 2 == 0 and b % 2 == 0:\n",
        "        return min(a, b)\n",
        "    else:\n",
        "        return max(a, b)"
      ]
    },
    {
      "cell_type": "code",
      "execution_count": 14,
      "metadata": {
        "id": "fOv0K9mXKfO9",
        "outputId": "b1879ff4-ffaa-432a-8fbe-2adcb131310e",
        "colab": {
          "base_uri": "https://localhost:8080/"
        }
      },
      "outputs": [
        {
          "output_type": "execute_result",
          "data": {
            "text/plain": [
              "2"
            ]
          },
          "metadata": {},
          "execution_count": 14
        }
      ],
      "source": [
        "# Revisión\n",
        "lesser_of_two_evens(2,4)"
      ]
    },
    {
      "cell_type": "code",
      "execution_count": 15,
      "metadata": {
        "id": "UMKYl4NgKfO-",
        "outputId": "00273323-3352-407f-a736-3c02d05475f6",
        "colab": {
          "base_uri": "https://localhost:8080/"
        }
      },
      "outputs": [
        {
          "output_type": "execute_result",
          "data": {
            "text/plain": [
              "5"
            ]
          },
          "metadata": {},
          "execution_count": 15
        }
      ],
      "source": [
        "# Revisión\n",
        "lesser_of_two_evens(2,5)"
      ]
    },
    {
      "cell_type": "markdown",
      "metadata": {
        "id": "ZdEE37WBKfO-"
      },
      "source": [
        "#### GALLETAS DE ANIMALES: Escribir una función que toma una cadena de dos palabras y devuelve True si ambas palabras comienzan con la misma letra\n",
        "    animal_crackers('Ciudad Calor') --> True\n",
        "    animal_crackers('Lugar Frio') --> False"
      ]
    },
    {
      "cell_type": "code",
      "execution_count": 28,
      "metadata": {
        "id": "6JEJK4lcKfO_"
      },
      "outputs": [],
      "source": [
        "def animal_crackers(text):\n",
        "  w = text.split()\n",
        "  if w[0][0].lower == w[1][0].lower:\n",
        "    return True\n",
        "  else:\n",
        "    return False"
      ]
    },
    {
      "cell_type": "code",
      "execution_count": 29,
      "metadata": {
        "id": "RZp5N4-6KfO_",
        "outputId": "5cad914e-26b8-4da1-8f6f-dab38f34314c",
        "colab": {
          "base_uri": "https://localhost:8080/"
        }
      },
      "outputs": [
        {
          "output_type": "execute_result",
          "data": {
            "text/plain": [
              "True"
            ]
          },
          "metadata": {},
          "execution_count": 29
        }
      ],
      "source": [
        "# Revisión\n",
        "animal_crackers('Ciudad Calor')"
      ]
    },
    {
      "cell_type": "code",
      "execution_count": 32,
      "metadata": {
        "id": "zaGYt5L8KfO_",
        "outputId": "c37cd45c-9a05-4c86-8d3d-6ce77c3705b8",
        "colab": {
          "base_uri": "https://localhost:8080/"
        }
      },
      "outputs": [
        {
          "output_type": "execute_result",
          "data": {
            "text/plain": [
              "False"
            ]
          },
          "metadata": {},
          "execution_count": 32
        }
      ],
      "source": [
        "# Revisión\n",
        "animal_crackers('Lugar Frio')"
      ]
    },
    {
      "cell_type": "markdown",
      "metadata": {
        "id": "Xln0rzZ3KfPA"
      },
      "source": [
        "#### HACE VEINTE: dados dos enteros, devuelve True si la suma de los enteros es 20 o si uno de los enteros es 20. De lo contrario, devuelve False\n",
        "\n",
        "    makes_twenty(20,10) --> True\n",
        "    makes_twenty(12,8) --> True\n",
        "    makes_twenty(2,3) --> False"
      ]
    },
    {
      "cell_type": "code",
      "execution_count": 16,
      "metadata": {
        "id": "wBbR7Xx_KfPA"
      },
      "outputs": [],
      "source": [
        "def makes_twenty(n1,n2):\n",
        "  if n1 + n2 == 20 or n1 == 20 or n2 == 20:\n",
        "    return True\n",
        "  else:\n",
        "    return False"
      ]
    },
    {
      "cell_type": "code",
      "execution_count": 17,
      "metadata": {
        "id": "6jHiJxnwKfPA",
        "outputId": "bf1a1597-f8cc-41dd-d531-c495fdd4386f",
        "colab": {
          "base_uri": "https://localhost:8080/"
        }
      },
      "outputs": [
        {
          "output_type": "execute_result",
          "data": {
            "text/plain": [
              "True"
            ]
          },
          "metadata": {},
          "execution_count": 17
        }
      ],
      "source": [
        "# Revisión\n",
        "makes_twenty(20,10)"
      ]
    },
    {
      "cell_type": "code",
      "execution_count": 18,
      "metadata": {
        "id": "zZIdlGLeKfPA",
        "outputId": "892b0bfe-9e5e-49a6-f28b-dc54058b36fd",
        "colab": {
          "base_uri": "https://localhost:8080/"
        }
      },
      "outputs": [
        {
          "output_type": "execute_result",
          "data": {
            "text/plain": [
              "False"
            ]
          },
          "metadata": {},
          "execution_count": 18
        }
      ],
      "source": [
        "# Revisión\n",
        "makes_twenty(2,3)"
      ]
    },
    {
      "cell_type": "code",
      "execution_count": 21,
      "metadata": {
        "id": "BlJKTZX9KfPA",
        "outputId": "43da4bdd-e75b-459e-aa3e-5c04f7b8c881",
        "colab": {
          "base_uri": "https://localhost:8080/"
        }
      },
      "outputs": [
        {
          "output_type": "execute_result",
          "data": {
            "text/plain": [
              "True"
            ]
          },
          "metadata": {},
          "execution_count": 21
        }
      ],
      "source": [
        "makes_twenty(12,8)"
      ]
    },
    {
      "cell_type": "markdown",
      "metadata": {
        "id": "d3Fka2vRKfPB"
      },
      "source": [
        "## **Nivel 1**"
      ]
    },
    {
      "cell_type": "markdown",
      "metadata": {
        "id": "H_e_DMbnKfPB"
      },
      "source": [
        "#### MAYÚSCULAS: Escribir una función que haga mayúscula la primera y cuarta letra de una cadena de texto\n",
        "     \n",
        "    old_macdonald('macdonald') --> MacDonald\n",
        "    \n",
        "Note: `'macdonald'.capitalize()` returns `'Macdonald'`"
      ]
    },
    {
      "cell_type": "code",
      "execution_count": 37,
      "metadata": {
        "id": "ZiXJrY8uKfPB"
      },
      "outputs": [],
      "source": [
        "def old_macdonald(name):\n",
        "    if len(name) < 4:\n",
        "      return name.capitalize()\n",
        "    else:\n",
        "      return name[0].upper() + name[1:3] + name[3].upper() + name[4:]"
      ]
    },
    {
      "cell_type": "code",
      "execution_count": 38,
      "metadata": {
        "id": "wtu_baYIKfPB",
        "outputId": "968b4e70-fb98-4303-bf29-06047df52b28",
        "colab": {
          "base_uri": "https://localhost:8080/",
          "height": 35
        }
      },
      "outputs": [
        {
          "output_type": "execute_result",
          "data": {
            "text/plain": [
              "'MacDonald'"
            ],
            "application/vnd.google.colaboratory.intrinsic+json": {
              "type": "string"
            }
          },
          "metadata": {},
          "execution_count": 38
        }
      ],
      "source": [
        "# Check\n",
        "old_macdonald('macdonald')"
      ]
    },
    {
      "cell_type": "markdown",
      "metadata": {
        "id": "E24LlJo1KfPC"
      },
      "source": [
        "#### REVERSA: Dada una oración, retornar la misma oración pero en reversa\n",
        "\n",
        "    master_yoda('I am home') --> 'home am I'\n",
        "    master_yoda('We are ready') --> 'ready are We'\n",
        "    \n",
        "Note: Revisar método .join()\n",
        "\n",
        "    >>> \"--\".join(['a','b','c'])\n",
        "    >>> 'a--b--c'\n",
        "\n",
        "Resultado de .join():\n",
        "\n",
        "    >>> \" \".join(['Hello','world'])\n",
        "    >>> \"Hello world\""
      ]
    },
    {
      "cell_type": "code",
      "execution_count": 47,
      "metadata": {
        "id": "6K4nw15nKfPC"
      },
      "outputs": [],
      "source": [
        "def master_yoda(text):\n",
        "    w = text.split()\n",
        "    return (\" \".join(w[::-1])).capitalize()"
      ]
    },
    {
      "cell_type": "code",
      "execution_count": 41,
      "metadata": {
        "id": "BXdDWf0BKfPC"
      },
      "outputs": [],
      "source": [
        "######"
      ]
    },
    {
      "cell_type": "code",
      "execution_count": 48,
      "metadata": {
        "id": "2DqSErszKfPD",
        "outputId": "34e1bcee-5e97-44b2-eb5e-44d3cc60a9b3",
        "colab": {
          "base_uri": "https://localhost:8080/",
          "height": 35
        }
      },
      "outputs": [
        {
          "output_type": "execute_result",
          "data": {
            "text/plain": [
              "'Home am i'"
            ],
            "application/vnd.google.colaboratory.intrinsic+json": {
              "type": "string"
            }
          },
          "metadata": {},
          "execution_count": 48
        }
      ],
      "source": [
        "# Revisión\n",
        "master_yoda('I am home')"
      ]
    },
    {
      "cell_type": "code",
      "execution_count": 49,
      "metadata": {
        "id": "efa9vdLSKfPD",
        "outputId": "76fc4d82-c8bf-4e67-c889-8effdb962456",
        "colab": {
          "base_uri": "https://localhost:8080/",
          "height": 35
        }
      },
      "outputs": [
        {
          "output_type": "execute_result",
          "data": {
            "text/plain": [
              "'Ready are we'"
            ],
            "application/vnd.google.colaboratory.intrinsic+json": {
              "type": "string"
            }
          },
          "metadata": {},
          "execution_count": 49
        }
      ],
      "source": [
        "# Revisión\n",
        "master_yoda('We are ready')"
      ]
    },
    {
      "cell_type": "markdown",
      "metadata": {
        "id": "9jquqRm7KfPE"
      },
      "source": [
        "## **Nivel 2**"
      ]
    },
    {
      "cell_type": "markdown",
      "metadata": {
        "id": "S5V3SVDGKfPE"
      },
      "source": [
        "#### PROBLEMA 33:\n",
        "\n",
        "Dada una lista de enteros, retornar True si el arreglo tinene un  3  seguido por un  3 .\n",
        "\n",
        "    has_33([1, 3, 3]) → True\n",
        "    has_33([1, 3, 1, 3]) → False\n",
        "    has_33([3, 1, 3]) → False"
      ]
    },
    {
      "cell_type": "code",
      "execution_count": 62,
      "metadata": {
        "id": "9eU2-UZvKfPE"
      },
      "outputs": [],
      "source": [
        "def has_33(nums):\n",
        "    for i in range(len(nums)-1):\n",
        "      if nums[i] == 3 and nums [i+1] == 3:\n",
        "        return True\n",
        "      else:\n",
        "        return False"
      ]
    },
    {
      "cell_type": "code",
      "execution_count": 63,
      "metadata": {
        "id": "Yca9X7MAKfPE",
        "outputId": "d796ded8-67b3-4774-afde-71d8f67fee10",
        "colab": {
          "base_uri": "https://localhost:8080/"
        }
      },
      "outputs": [
        {
          "output_type": "execute_result",
          "data": {
            "text/plain": [
              "False"
            ]
          },
          "metadata": {},
          "execution_count": 63
        }
      ],
      "source": [
        "# Revisión\n",
        "has_33([1, 3, 3])"
      ]
    },
    {
      "cell_type": "code",
      "execution_count": 64,
      "metadata": {
        "id": "XSw1ml9dKfPE",
        "outputId": "aeab89b0-8367-4e35-95c5-548e97951a23",
        "colab": {
          "base_uri": "https://localhost:8080/"
        }
      },
      "outputs": [
        {
          "output_type": "execute_result",
          "data": {
            "text/plain": [
              "False"
            ]
          },
          "metadata": {},
          "execution_count": 64
        }
      ],
      "source": [
        "# Revisión\n",
        "has_33([1, 3, 1, 3])"
      ]
    },
    {
      "cell_type": "code",
      "execution_count": 65,
      "metadata": {
        "id": "ZKcJgxc5KfPF",
        "outputId": "2ba31f22-92fe-4aec-a42a-b09d72adbd2a",
        "colab": {
          "base_uri": "https://localhost:8080/"
        }
      },
      "outputs": [
        {
          "output_type": "execute_result",
          "data": {
            "text/plain": [
              "False"
            ]
          },
          "metadata": {},
          "execution_count": 65
        }
      ],
      "source": [
        "# Revisión\n",
        "has_33([3, 1, 3])"
      ]
    },
    {
      "cell_type": "markdown",
      "metadata": {
        "id": "n-Vj63BpKfPF"
      },
      "source": [
        "#### REPLICADOR: Dada una cadena, devuelve una cadena donde por cada carácter en el original hay tres caracteres REPETIDOS\n",
        "    paper_doll('Hello') --> 'HHHeeellllllooo'\n",
        "    paper_doll('Mississippi') --> 'MMMiiissssssiiippppppiii'"
      ]
    },
    {
      "cell_type": "code",
      "execution_count": 99,
      "metadata": {
        "id": "F6ivbyiXKfPF"
      },
      "outputs": [],
      "source": [
        "def paper_doll(text):\n",
        "    return ''.join([i * 3 for i in text])"
      ]
    },
    {
      "cell_type": "code",
      "execution_count": 100,
      "metadata": {
        "id": "h330yUbKKfPF",
        "outputId": "6b6dab67-db15-4eda-819b-48d3e64d161f",
        "colab": {
          "base_uri": "https://localhost:8080/",
          "height": 35
        }
      },
      "outputs": [
        {
          "output_type": "execute_result",
          "data": {
            "text/plain": [
              "'HHHeeellllllooo'"
            ],
            "application/vnd.google.colaboratory.intrinsic+json": {
              "type": "string"
            }
          },
          "metadata": {},
          "execution_count": 100
        }
      ],
      "source": [
        "# Check\n",
        "paper_doll('Hello')"
      ]
    },
    {
      "cell_type": "code",
      "execution_count": 96,
      "metadata": {
        "id": "sZTw8FlZKfPF",
        "outputId": "66be84dd-06d1-4e91-e2c6-da6ab33a25f6",
        "colab": {
          "base_uri": "https://localhost:8080/",
          "height": 35
        }
      },
      "outputs": [
        {
          "output_type": "execute_result",
          "data": {
            "text/plain": [
              "'MMMiiissssssiiissssssiiippppppiii'"
            ],
            "application/vnd.google.colaboratory.intrinsic+json": {
              "type": "string"
            }
          },
          "metadata": {},
          "execution_count": 96
        }
      ],
      "source": [
        "# Check\n",
        "paper_doll('Mississippi')"
      ]
    },
    {
      "cell_type": "markdown",
      "metadata": {
        "id": "OJfMlQRcKfPF"
      },
      "source": [
        "#### BLACKJACK: Dados tres enteros entre 1 y 11, si su suma es menor o igual a 21, devuelve su suma. Si su suma excede 21 *y* hay un once, reduce la suma total en 10. Finalmente, si la suma (incluso después del ajuste) excede 21, devuelve 'BUST'\n",
        "    blackjack(5,6,7) --> 18\n",
        "    blackjack(9,9,9) --> 'BUST'\n",
        "    blackjack(9,9,11) --> 19"
      ]
    },
    {
      "cell_type": "code",
      "execution_count": 88,
      "metadata": {
        "id": "REJRcYJmKfPF"
      },
      "outputs": [],
      "source": [
        "def blackjack(a,b,c):\n",
        "    if a + b + c == 21:\n",
        "      return a + b + c\n",
        "    elif a + b + c > 21 and (a == 11 or b == 11 or c == 11):\n",
        "      return (a+b+c)-10\n",
        "    elif a + b + c > 21:\n",
        "      return \"BUST\""
      ]
    },
    {
      "cell_type": "code",
      "execution_count": 101,
      "metadata": {
        "id": "D_sHnddYKfPF"
      },
      "outputs": [],
      "source": [
        "# Revisión\n",
        "blackjack(5,6,7)"
      ]
    },
    {
      "cell_type": "code",
      "execution_count": 86,
      "metadata": {
        "id": "y0713b36KfPF",
        "outputId": "3f911707-3da0-4f9b-dbb5-d0bc4ff3fe70",
        "colab": {
          "base_uri": "https://localhost:8080/",
          "height": 35
        }
      },
      "outputs": [
        {
          "output_type": "execute_result",
          "data": {
            "text/plain": [
              "'BUST'"
            ],
            "application/vnd.google.colaboratory.intrinsic+json": {
              "type": "string"
            }
          },
          "metadata": {},
          "execution_count": 86
        }
      ],
      "source": [
        "# Revisión\n",
        "blackjack(9,9,9)"
      ]
    },
    {
      "cell_type": "code",
      "execution_count": 87,
      "metadata": {
        "id": "6eijyrH-KfPG",
        "outputId": "91329802-7ec8-4fd0-ba92-54804cc922a3",
        "colab": {
          "base_uri": "https://localhost:8080/"
        }
      },
      "outputs": [
        {
          "output_type": "execute_result",
          "data": {
            "text/plain": [
              "19"
            ]
          },
          "metadata": {},
          "execution_count": 87
        }
      ],
      "source": [
        "# Revisión\n",
        "blackjack(9,9,11)"
      ]
    }
  ]
}